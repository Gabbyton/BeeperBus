{
 "cells": [
  {
   "cell_type": "code",
   "execution_count": null,
   "id": "d0ee936e-fd51-4a64-91fa-f111fe8da5a7",
   "metadata": {},
   "outputs": [],
   "source": [
    "import json\n",
    "import re\n",
    "\n",
    "import pandas as pd\n",
    "import numpy as np\n",
    "import scipy as sp\n",
    "import geopandas as gp\n",
    "\n",
    "from tqdm import tqdm"
   ]
  },
  {
   "cell_type": "code",
   "execution_count": null,
   "id": "9da7630f-d538-40bb-96c7-483d0d2c4f6b",
   "metadata": {},
   "outputs": [],
   "source": [
    "# Get vehicle data and clean it\n",
    "\n",
    "with open(\"data/vehicles_week.json\") as f:\n",
    "    lines = f.readlines()\n",
    "data = json.loads(\"\\n\".join([line.removesuffix(\"+\") for line in (\"[\" + \"\".join(lines[3:-2])).split(\"\\n\")]))\n",
    "vehicle_frame = pd.DataFrame(data)\n",
    "vehicle_frame.set_index(\"id\", inplace=True)\n",
    "vehicle_frame.reset_index(inplace=True)\n",
    "datetime_cols = [\"createdAt\", \"updatedAt\"]\n",
    "for col in datetime_cols:\n",
    "    vehicle_frame[col] = pd.to_datetime(vehicle_frame[col], format=\"mixed\")\n",
    "vehicle_frame.count()"
   ]
  },
  {
   "cell_type": "code",
   "execution_count": null,
   "id": "ed9bdb81-e30a-4993-88d6-ec85f4c46ec8",
   "metadata": {},
   "outputs": [],
   "source": [
    "df = vehicle_frame.loc[:, [\"lat\", \"long\"]]"
   ]
  },
  {
   "cell_type": "code",
   "execution_count": null,
   "id": "6a214c32-089e-4e38-8a7c-cf793bdfc836",
   "metadata": {},
   "outputs": [],
   "source": [
    "gdf = gp.GeoDataFrame(df, geometry=gp.points_from_xy(df[\"long\"], df[\"lat\"]), crs=\"EPSG:4326\")\n",
    "gdf"
   ]
  },
  {
   "cell_type": "code",
   "execution_count": null,
   "id": "10966ac2-9a48-40a2-8535-4dad0f25d687",
   "metadata": {},
   "outputs": [],
   "source": [
    "gdf.explore(color=\"black\")"
   ]
  },
  {
   "cell_type": "code",
   "execution_count": null,
   "id": "4e38ff33-155c-4fad-9604-da5a1c50d55c",
   "metadata": {},
   "outputs": [],
   "source": []
  },
  {
   "cell_type": "code",
   "execution_count": null,
   "id": "8fe0d1f2-cb33-4831-8dd4-12eb158734ad",
   "metadata": {},
   "outputs": [],
   "source": []
  }
 ],
 "metadata": {
  "kernelspec": {
   "display_name": "Python 3 (ipykernel)",
   "language": "python",
   "name": "python3"
  }
 },
 "nbformat": 4,
 "nbformat_minor": 5
}
