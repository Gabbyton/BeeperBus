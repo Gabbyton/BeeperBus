{
 "cells": [
  {
   "cell_type": "markdown",
   "id": "ce12c3d3-4883-4d2f-b5f0-2bf3cef3e338",
   "metadata": {},
   "source": [
    "# Vehicle Stop Exploration\n",
    "__Author:__ Joshua Shew  \n",
    "__Date:__ August 8, 2023\n",
    "\n",
    "This notebook explores data collected from July 30 to August 4, on recorded\n",
    "vehicle coordinates, collected every second while the route is active. It aims\n",
    "to investigate the feasibility of detecting vehicle stops, particularly at bus\n",
    "stops. It is based on the work by Gabriel in the \"Initial Data Exploration\"\n",
    "report."
   ]
  },
  {
   "cell_type": "markdown",
   "id": "82a11b17-ec3f-4df8-a758-f53ae89ce29b",
   "metadata": {},
   "source": [
    "## Module Import"
   ]
  },
  {
   "cell_type": "code",
   "execution_count": null,
   "id": "d0ee936e-fd51-4a64-91fa-f111fe8da5a7",
   "metadata": {},
   "outputs": [],
   "source": [
    "import os\n",
    "\n",
    "import pandas as pd\n",
    "import geopandas as gp\n",
    "from dotenv import load_dotenv\n",
    "_ = load_dotenv()"
   ]
  },
  {
   "cell_type": "markdown",
   "id": "23e7d3b8-4c0b-4fee-90bf-18ea5c7a2049",
   "metadata": {},
   "source": [
    "## Data Retrieval and Cleaning"
   ]
  },
  {
   "cell_type": "markdown",
   "id": "a1c1d168",
   "metadata": {},
   "source": [
    "Import and sample vehicle data\n",
    "\n",
    "1. Retrieve the data from a CSV file\n",
    "1. Clean the data (remove testing entries)\n",
    "1. Sort the data\n",
    "1. Sample 10,000 entries"
   ]
  },
  {
   "cell_type": "code",
   "execution_count": null,
   "id": "4e38ff33-155c-4fad-9604-da5a1c50d55c",
   "metadata": {},
   "outputs": [],
   "source": [
    "vehicle_data = pd.read_csv(\"data/vehicles_weekly_20230805.csv\", low_memory=False)\n",
    "vehicle_data = vehicle_data[vehicle_data[\"callName\"] != \"abc123\"] # Remove a test callName\n",
    "vehicle_data = vehicle_data.sort_values(\"id\").reset_index(drop=True) # Sort by id\n",
    "print(f\"The data contains {len(vehicle_data)} entries. We sample 10,000 for exploration.\")\n",
    "vehicle_data = vehicle_data.sample(10_000, random_state=1)\n",
    "print(\"See summary statistics below.\")\n",
    "vehicle_data.describe()"
   ]
  },
  {
   "cell_type": "markdown",
   "id": "b27e3152",
   "metadata": {},
   "source": [
    "Access stop data\n",
    "\n",
    "1. Request data from API\n",
    "1. Parse data\n",
    "1. Remove unneeded elements"
   ]
  },
  {
   "cell_type": "code",
   "execution_count": null,
   "id": "585b944c",
   "metadata": {},
   "outputs": [],
   "source": [
    "import requests\n",
    "\n",
    "url = \"https://transloc-api-1-2.p.rapidapi.com/stops.json\"\n",
    "querystring = {\"agencies\": \"1199\", \"callback\": \"call\"}\n",
    "headers = {\n",
    "    \"X-RapidAPI-Key\": os.getenv(\"X_RAPIDAPI_KEY\"),\n",
    "    \"X-RapidAPI-Host\": \"transloc-api-1-2.p.rapidapi.com\",\n",
    "}\n",
    "response = requests.get(url, headers=headers, params=querystring)\n",
    "response.raise_for_status()\n",
    "raw_stops_data = response.json()\n",
    "for index, stop_data in enumerate(raw_stops_data[\"data\"]):  # Flatten stop JSON\n",
    "    stop_data[\"lat\"] = stop_data[\"location\"][\"lat\"]\n",
    "    stop_data[\"lng\"] = stop_data[\"location\"][\"lng\"]\n",
    "    del stop_data[\"location\"]\n",
    "stops_data = pd.DataFrame(raw_stops_data[\"data\"])\n",
    "columns_to_remove = [\n",
    "    \"description\",\n",
    "    \"url\",\n",
    "    \"parent_station_id\",\n",
    "    \"agency_ids\",\n",
    "    \"station_id\",\n",
    "    \"location_type\",\n",
    "    \"routes\",\n",
    "]\n",
    "stops_data = stops_data[list(set(stops_data.columns) - set(columns_to_remove))][\n",
    "    [\"stop_id\", \"name\", \"lat\", \"lng\", \"code\"]\n",
    "]\n",
    "print(f\"We now have data for {len(stops_data)} stops.\")\n",
    "stops_data.head()"
   ]
  }
 ],
 "metadata": {
  "kernelspec": {
   "display_name": "Python 3 (ipykernel)",
   "language": "python",
   "name": "python3"
  }
 },
 "nbformat": 4,
 "nbformat_minor": 5
}
