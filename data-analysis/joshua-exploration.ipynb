{
 "cells": [
  {
   "cell_type": "code",
   "execution_count": null,
   "metadata": {},
   "outputs": [],
   "source": [
    "import json\n",
    "\n",
    "import pandas as pd\n",
    "import seaborn as sns\n",
    "from matplotlib import pyplot as plt"
   ]
  },
  {
   "cell_type": "code",
   "execution_count": null,
   "metadata": {},
   "outputs": [],
   "source": [
    "# Get arrival data and clean it\n",
    "\n",
    "with open(\"data/arrivals_dump.json\") as f:\n",
    "    lines = f.readlines()\n",
    "data = json.loads(\"\\n\".join([line.removesuffix(\"+\") for line in (\"[\" + \"\".join(lines[3:-2])).split(\"\\n\")]))\n",
    "arrival_frame = pd.DataFrame(data)\n",
    "arrival_frame.set_index(\"id\", inplace=True)\n",
    "arrival_frame.reset_index(inplace=True)\n",
    "datetime_cols = [\"generatedOn\", \"arrivalAt\", \"createdAt\", \"updatedAt\"]\n",
    "for col in datetime_cols:\n",
    "    arrival_frame[col] = pd.to_datetime(arrival_frame[col])\n",
    "arrival_frame.info()"
   ]
  },
  {
   "cell_type": "code",
   "execution_count": null,
   "metadata": {},
   "outputs": [],
   "source": [
    "# Get vehicle data and clean it\n",
    "\n",
    "with open(\"data/vehicle_dump.json\") as f:\n",
    "    lines = f.readlines()\n",
    "data = json.loads(\"\\n\".join([line.removesuffix(\"+\") for line in (\"[\" + \"\".join(lines[3:-2])).split(\"\\n\")]))\n",
    "vehicle_frame = pd.DataFrame(data)\n",
    "vehicle_frame.set_index(\"id\", inplace=True)\n",
    "vehicle_frame.reset_index(inplace=True)\n",
    "datetime_cols = [\"createdAt\", \"updatedAt\"]\n",
    "for col in datetime_cols:\n",
    "    vehicle_frame[col] = pd.to_datetime(vehicle_frame[col])\n",
    "vehicle_frame.info()"
   ]
  },
  {
   "cell_type": "code",
   "execution_count": null,
   "metadata": {},
   "outputs": [],
   "source": [
    "# Plot arrival estimates\n",
    "\n",
    "frame = arrival_frame\n",
    "sns.set_theme(style=\"darkgrid\")\n",
    "g = sns.relplot(\n",
    "    data=frame,\n",
    "    col=frame[\"generatedOn\"] > \"2023-07-21\",\n",
    "    x=\"generatedOn\",\n",
    "    y=\"arrivalAt\",\n",
    "    hue=\"stopId\",\n",
    "    aspect=1.3,\n",
    "    facet_kws={'sharey': False, 'sharex': False}\n",
    ")\n",
    "g.axes[0, 0].set_title(\"2023-07-20\")\n",
    "g.axes[0, 1].set_title(\"2023-07-21\")\n",
    "_ = g.figure.suptitle(\"Arrival estimates across all stops\", y=1.05)"
   ]
  }
 ],
 "metadata": {
  "kernelspec": {
   "display_name": ".venv",
   "language": "python",
   "name": "python3"
  }
 },
 "nbformat": 4,
 "nbformat_minor": 2
}
