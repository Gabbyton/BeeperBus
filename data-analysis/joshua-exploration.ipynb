{
 "cells": [
  {
   "cell_type": "code",
   "execution_count": null,
   "metadata": {},
   "outputs": [],
   "source": [
    "import json\n",
    "\n",
    "import pandas as pd\n",
    "import seaborn as sns"
   ]
  },
  {
   "cell_type": "code",
   "execution_count": null,
   "metadata": {},
   "outputs": [],
   "source": [
    "with open(\"data/arrivals_dump.json\") as f:\n",
    "    lines = f.readlines()\n",
    "data = json.loads(\"\\n\".join([line[:-1] if line.endswith(\"+\") else line for line in (\"[\" + \"\".join(lines[3:-2])).split(\"\\n\")]))\n",
    "frame = pd.DataFrame(data)\n",
    "frame.set_index(\"id\", inplace=True)\n",
    "frame.reset_index(inplace=True)\n",
    "datetime_cols = [\"generatedOn\", \"arrivalAt\", \"createdAt\", \"updatedAt\"]\n",
    "for col in datetime_cols:\n",
    "    frame[col] = pd.to_datetime(frame[col])\n",
    "frame.info()"
   ]
  },
  {
   "cell_type": "code",
   "execution_count": null,
   "metadata": {},
   "outputs": [],
   "source": [
    "sns.set_theme()\n",
    "sns.relplot(data=frame, x=\"generatedOn\", y=\"arrivalAt\")"
   ]
  },
  {
   "cell_type": "code",
   "execution_count": null,
   "metadata": {},
   "outputs": [],
   "source": []
  }
 ],
 "metadata": {
  "kernelspec": {
   "display_name": ".venv",
   "language": "python",
   "name": "python3"
  }
 },
 "nbformat": 4,
 "nbformat_minor": 2
}
