{
 "cells": [
  {
   "cell_type": "code",
   "execution_count": null,
   "metadata": {},
   "outputs": [],
   "source": [
    "import json\n",
    "\n",
    "import pandas as pd\n",
    "import seaborn as sns\n",
    "from matplotlib import pyplot as plt"
   ]
  },
  {
   "cell_type": "code",
   "execution_count": null,
   "metadata": {},
   "outputs": [],
   "source": [
    "# Get data and clean it\n",
    "\n",
    "with open(\"data/arrivals_dump.json\") as f:\n",
    "    lines = f.readlines()\n",
    "data = json.loads(\"\\n\".join([line[:-1] if line.endswith(\"+\") else line for line in (\"[\" + \"\".join(lines[3:-2])).split(\"\\n\")]))\n",
    "frame = pd.DataFrame(data)\n",
    "frame.set_index(\"id\", inplace=True)\n",
    "frame.reset_index(inplace=True)\n",
    "datetime_cols = [\"generatedOn\", \"arrivalAt\", \"createdAt\", \"updatedAt\"]\n",
    "for col in datetime_cols:\n",
    "    frame[col] = pd.to_datetime(frame[col])\n",
    "frame.info()"
   ]
  },
  {
   "cell_type": "code",
   "execution_count": null,
   "metadata": {},
   "outputs": [],
   "source": [
    "sns.set_theme()\n",
    "g = sns.relplot(\n",
    "    data=frame,\n",
    "    col=frame[\"generatedOn\"] > \"2023-07-21\",\n",
    "    x=\"generatedOn\",\n",
    "    y=\"arrivalAt\",\n",
    "    hue=\"stopId\",\n",
    "    aspect=1.25,\n",
    "    facet_kws={'sharey': False, 'sharex': False}\n",
    ")\n",
    "g.axes[0, 0].set_title(\"2023-07-20\")\n",
    "g.axes[0, 1].set_title(\"2023-07-21\")"
   ]
  }
 ],
 "metadata": {
  "kernelspec": {
   "display_name": ".venv",
   "language": "python",
   "name": "python3"
  }
 },
 "nbformat": 4,
 "nbformat_minor": 2
}
