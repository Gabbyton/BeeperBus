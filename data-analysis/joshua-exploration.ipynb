{
 "cells": [
  {
   "cell_type": "markdown",
   "id": "ce12c3d3-4883-4d2f-b5f0-2bf3cef3e338",
   "metadata": {},
   "source": [
    "# Initial Data Exploration\n",
    "__Author:__ Gabriel Obsequio Ponón  \n",
    "__Date:__ August 5, 2023\n",
    "\n",
    "This notebook explores data collected from July 30 to August 4, on recorded vehicle coordinates, collected every second when a route is active.\n",
    "\n",
    "This exploration looks at the structure and content of the data, along with basic descriptors and information about the distribution on each variable. This preliminary information is then used to plot the data on a map per day, as well as mapping stops and routes included in the set.\n",
    "\n",
    "The notebook concludes with plotting the average duration of getting from one stop to the next, as well as a rough ordered list of destinations a bus would take in a given day.\n",
    "\n",
    "See our README for more information about the project."
   ]
  },
  {
   "cell_type": "markdown",
   "id": "82a11b17-ec3f-4df8-a758-f53ae89ce29b",
   "metadata": {},
   "source": [
    "## Module Import"
   ]
  },
  {
   "cell_type": "code",
   "execution_count": null,
   "id": "d0ee936e-fd51-4a64-91fa-f111fe8da5a7",
   "metadata": {},
   "outputs": [],
   "source": [
    "import pandas as pd\n",
    "import geopandas as gp # library for visualizing data on a map\n",
    "import matplotlib.pyplot as plt\n",
    "import contextily as cx # for creating static map plots\n",
    "\n",
    "from tqdm import tqdm # library for displaying "
   ]
  },
  {
   "cell_type": "markdown",
   "id": "23e7d3b8-4c0b-4fee-90bf-18ea5c7a2049",
   "metadata": {},
   "source": [
    "## Data Retrieval and Cleaning"
   ]
  },
  {
   "cell_type": "markdown",
   "id": "7c3b630c-c52a-4a43-890b-3a45e8a95e54",
   "metadata": {},
   "source": [
    "### Importing and Sampling Data"
   ]
  },
  {
   "cell_type": "code",
   "execution_count": null,
   "id": "4e38ff33-155c-4fad-9604-da5a1c50d55c",
   "metadata": {},
   "outputs": [],
   "source": [
    "# Retrieve weekly data as csv\n",
    "vehicle_data = pd.read_csv('data/vehicles_weekly_20230805.csv', low_memory=False)\n",
    "vehicle_data"
   ]
  },
  {
   "cell_type": "markdown",
   "id": "7e1b5ee0-979e-45d0-9f0f-28db6e4d5267",
   "metadata": {},
   "source": [
    "The data contains at most 570,000 samples! We collect a sample of 10,000 points to inspect and explore the data."
   ]
  },
  {
   "cell_type": "code",
   "execution_count": null,
   "id": "d2db0fbb-9594-4ed2-bdd4-d427f563aaf2",
   "metadata": {},
   "outputs": [],
   "source": [
    "vehicle_data[\"callName\"].unique()"
   ]
  },
  {
   "cell_type": "code",
   "execution_count": null,
   "id": "94fb08a9-ed03-4a18-9da4-ffcd8e64098c",
   "metadata": {},
   "outputs": [],
   "source": [
    "vehicle_data = vehicle_data.sample(10_000)"
   ]
  },
  {
   "cell_type": "markdown",
   "id": "1670dfc8-50a3-438a-bf3e-1ff83643e469",
   "metadata": {},
   "source": [
    "We group the data by route ID."
   ]
  },
  {
   "cell_type": "code",
   "execution_count": null,
   "id": "8fe0d1f2-cb33-4831-8dd4-12eb158734ad",
   "metadata": {},
   "outputs": [],
   "source": [
    "vehicle_data_routes = vehicle_data.groupby('routeId')"
   ]
  },
  {
   "cell_type": "markdown",
   "id": "f3b97568-f4da-4c00-91c1-26ede2dbe6fe",
   "metadata": {},
   "source": [
    "We get a shorthand description of the variables for each route."
   ]
  },
  {
   "cell_type": "code",
   "execution_count": null,
   "id": "3560c1a5-ca89-4c1d-8a30-c0468015ed35",
   "metadata": {},
   "outputs": [],
   "source": [
    "vehicle_data_routes.describe().T"
   ]
  },
  {
   "cell_type": "markdown",
   "id": "727f65bd-2c3c-4761-a222-4560d5b183b3",
   "metadata": {},
   "source": [
    "We can make a few observations:\n",
    "\n",
    "* There is only one route and one vehicle in this dataset.\n",
    "* The bus position range from 4.149962 to 4.151316 degrees in latitude and -8.161963 to 8.159947 degrees longitude.\n",
    "* These coordinates seem to belong to the World Mercator map system.\n",
    "* Heading is between 1 to 259 degrees, which makes sense for vehicle direction."
   ]
  },
  {
   "cell_type": "markdown",
   "id": "54522683-f741-40a5-8efd-e48a47dbfb7d",
   "metadata": {},
   "source": [
    "### Stop and Route Information"
   ]
  },
  {
   "cell_type": "markdown",
   "id": "9425c8f4-88f4-4f4d-99e1-b6f07dc67c42",
   "metadata": {},
   "source": [
    "Unfortunately, the OpenAPI for Transloc does not seem to offer the route ID mappings any longer. The same is true for the stop to route mappings.\n",
    "\n",
    "We proceed with the exploration we can perform."
   ]
  },
  {
   "cell_type": "markdown",
   "id": "364c7750-7bb2-43fc-ad95-3ee95cc4cde2",
   "metadata": {},
   "source": [
    "## Creating and Plotting Geoframe\n",
    "\n",
    "We can convert the data into a geopandas dataframe, where the data is also indexed by a specified map geometry. We first define the function needed to generate one."
   ]
  },
  {
   "cell_type": "code",
   "execution_count": null,
   "id": "3062d315-4316-4bea-82ad-1d25f6a75f43",
   "metadata": {},
   "outputs": [],
   "source": [
    "def gen_gdf(df_inp): # take a regular data frame as input\n",
    "    gdf_out = gp.GeoDataFrame(df_inp,\n",
    "                              # convert x-y coordinates into point geometries\n",
    "                              geometry=gp.points_from_xy(df_inp[\"long\"], df_inp[\"lat\"]),\n",
    "                              # use Web Mercator Projection\n",
    "                              crs=\"EPSG:4326\")\n",
    "    return gdf_out"
   ]
  },
  {
   "cell_type": "code",
   "execution_count": null,
   "id": "d1777dff-3aed-4a78-83d1-5959558020ab",
   "metadata": {},
   "outputs": [],
   "source": [
    "vehicle_gdf = gen_gdf(vehicle_data)\n",
    "vehicle_gdf"
   ]
  },
  {
   "cell_type": "markdown",
   "id": "80240120-5b08-4f74-ba4b-cb8e50b1796a",
   "metadata": {},
   "source": [
    "We then preview the sampled data points on a map."
   ]
  },
  {
   "cell_type": "code",
   "execution_count": null,
   "id": "4ffcb2cb-3f12-4e18-8e58-74cba9235fbb",
   "metadata": {},
   "outputs": [],
   "source": [
    "fig, ax = plt.subplots(1,1, layout=\"tight\", dpi=150)\n",
    "vehicle_gdf.plot(ax=ax, color=\"black\")\n",
    "cx.add_basemap(ax, crs= \"EPSG:4326\")\n",
    "plt.show()"
   ]
  },
  {
   "cell_type": "markdown",
   "id": "37b6e340-c52f-4c84-933f-ba60ace63792",
   "metadata": {},
   "source": [
    "We can see that our data tracks well with a regular shuttle route. However, we also observe that these routes seem to be a combination of multiple routes. \n",
    "\n",
    "> This could imply that our dataset no longer labels the routes correctly. This complements the fact that the stop and route information is also not available. We verify later if this is true for all collected data points."
   ]
  },
  {
   "cell_type": "markdown",
   "id": "154a8805-84da-4e65-82e6-96c532985bb2",
   "metadata": {},
   "source": [
    "### Data Indexing\n",
    "\n",
    "We proceed to index our data by timestamp to prepare for further exploration."
   ]
  },
  {
   "cell_type": "code",
   "execution_count": null,
   "id": "9b97b193-5b97-43d2-8662-33bf15cb05e3",
   "metadata": {},
   "outputs": [],
   "source": [
    "# conform date to standard format\n",
    "vehicle_data[\"updatedAt\"] = pd.to_datetime(vehicle_data[\"updatedAt\"], format=\"ISO8601\", utc=True)\n",
    "datetime_idx = pd.DatetimeIndex(vehicle_data[\"updatedAt\"].values).tz_localize(\"US/Eastern\")\n",
    "datetime_idx"
   ]
  },
  {
   "cell_type": "code",
   "execution_count": null,
   "id": "542fc2cc-1803-49e4-90ad-077dd7a33acd",
   "metadata": {},
   "outputs": [],
   "source": [
    "vehicle_data = vehicle_data.set_index(datetime_idx)"
   ]
  },
  {
   "cell_type": "markdown",
   "id": "3ea6b9ce-89b0-4a0c-8b3d-2efcb6d47999",
   "metadata": {},
   "source": [
    "We then set up the data to visualize our sample for each day. We start by only keeping the coordinates and the timestamp, while dropping everything else."
   ]
  },
  {
   "cell_type": "code",
   "execution_count": null,
   "id": "11802c79-0be0-4215-832e-d03b7c817660",
   "metadata": {},
   "outputs": [],
   "source": [
    "vehicle_data = vehicle_data.loc[:, [\"lat\", \"long\"]]\n",
    "vehicle_data"
   ]
  },
  {
   "cell_type": "markdown",
   "id": "31f7b2da-a245-4c5b-96b1-0b77143a805d",
   "metadata": {},
   "source": [
    "We check if our data is indexing correctly"
   ]
  },
  {
   "cell_type": "code",
   "execution_count": null,
   "id": "9a77e90d-6fe9-4b1c-9c64-e8e240e4ad49",
   "metadata": {},
   "outputs": [],
   "source": [
    "vehicle_data_first = vehicle_data.loc[\"2023-07-30\"]\n",
    "vehicle_data_first.sort_index()"
   ]
  },
  {
   "cell_type": "markdown",
   "id": "e82399ea-235a-4f3d-9811-91a066caf406",
   "metadata": {},
   "source": [
    "We observe that our data start collecting from a few minutes after midnight until midnight of that date.\n",
    "\n",
    "We then create a geopandas dataframe to prepare for plotting."
   ]
  },
  {
   "cell_type": "code",
   "execution_count": null,
   "id": "09d734e1-edff-4026-b36a-c9c50e5f9151",
   "metadata": {},
   "outputs": [],
   "source": [
    "vehicle_data_gdf = gen_gdf(vehicle_data)\n",
    "vehicle_data_gdf"
   ]
  },
  {
   "cell_type": "markdown",
   "id": "c2a28075-1729-4e44-9949-dcb5a9e378ba",
   "metadata": {},
   "source": [
    "We resample the dataframe to group into the different days constituting our timestamp."
   ]
  },
  {
   "cell_type": "code",
   "execution_count": null,
   "id": "08036161-992e-440e-9080-67533f0f3d19",
   "metadata": {},
   "outputs": [],
   "source": [
    "vehicle_daily = vehicle_data.resample(\"D\")"
   ]
  },
  {
   "cell_type": "markdown",
   "id": "7b1b711a-9c7e-4bd3-9f80-f57eed6e47f8",
   "metadata": {},
   "source": [
    "We inspect the saved image to compare for various days"
   ]
  },
  {
   "cell_type": "code",
   "execution_count": null,
   "id": "9a6bbafb-4d3c-44d1-aff1-18fba655d237",
   "metadata": {},
   "outputs": [],
   "source": [
    "# num_cols = 2\n",
    "# num_rows = len(vehicle_daily) // num_cols + 1\n",
    "# fig_size = 14.4 * num_cols, 9.6 * num_rows # matplotlib describes length in screen units, not px\n",
    "# fig, ax = plt.subplots(num_rows, num_cols, figsize=fig_size, layout='tight')\n",
    "# fig.subplots_adjust(left=None, bottom=None, right=None, top=None, wspace=None, hspace=None)\n",
    "\n",
    "# for i, (name, data) in enumerate(vehicle_daily):\n",
    "#     col = i % num_cols\n",
    "#     row = i // num_cols\n",
    "#     gdf = gen_gdf(data)\n",
    "#     ax[row, col].set_title(str(name))\n",
    "#     gdf.plot(ax=ax[row, col], color=\"black\")\n",
    "#     cx.add_basemap(ax[row, col], crs= \"EPSG:4326\")\n",
    "\n",
    "# #fig.savefig(\"data/weekly_sample.png\")\n",
    "# plt.close()"
   ]
  },
  {
   "cell_type": "markdown",
   "id": "d47bdb17-b7de-4420-83c8-5ebf18974312",
   "metadata": {},
   "source": [
    "We then plot each group separately for each day."
   ]
  },
  {
   "cell_type": "markdown",
   "id": "1e7a283a-39a3-4da3-ab36-639b48cffa8b",
   "metadata": {},
   "source": [
    "![Weekly Summary](data/weekly_sample.png)"
   ]
  },
  {
   "cell_type": "markdown",
   "id": "6fc5e267-00e0-4c12-8257-1aff0e6de4ca",
   "metadata": {},
   "source": [
    "> An full resolution image is included in the report folder for reference."
   ]
  },
  {
   "cell_type": "markdown",
   "id": "26510cce-067b-4bcd-8c1b-8d774ed9f252",
   "metadata": {},
   "source": [
    "We can make some comparisons. Throughout the week, The dates of July 30 and August 5 seem to show that the vehicle was only in one spot. This might due to a system deactivation during the weekend, or the driver forgot to turn it on.\n",
    "\n",
    "On the other hand, the dates in between show striking similarity considering the sample was retrieved randomly (Guassian normal). However, these maps also show that the routes were probably superimposed on top of one another, preventing our further analysis at the moment.\n",
    "\n",
    "The maps also show interesting hotspots that fall outside what looks like the bus routes. We surmise the cluster on the North-east are drivers filling up gas, while the isolated cluster in the West might be the driver's parking lots."
   ]
  },
  {
   "cell_type": "markdown",
   "id": "49a01b4f-e216-4a20-b17e-e14d0dedad53",
   "metadata": {},
   "source": [
    "# Route and Stop Plots\n",
    "\n",
    "We retrieved data provided in the public facing [CWRU shuttle tracking app](https://case.edu/access-services/transportation/shuttles/shuttle-tracking). We took note of the API used to collect the prediction information and used this data to locate stops and route paths."
   ]
  },
  {
   "cell_type": "markdown",
   "id": "7d021cb4-4f6d-4c5a-b638-c65de2c63191",
   "metadata": {},
   "source": [
    "## Stops"
   ]
  },
  {
   "cell_type": "markdown",
   "id": "520b9dbd-e9c5-49fc-ae58-c4bc22f6b2e6",
   "metadata": {},
   "source": [
    "We first retrieve stop data. This data was generated from the stops attribute found in the arrival predictions data for each vehicle."
   ]
  },
  {
   "cell_type": "code",
   "execution_count": null,
   "id": "041104df-7619-46ae-ac71-431e03a84f2c",
   "metadata": {},
   "outputs": [],
   "source": [
    "stop_df = pd.read_csv(\"data/stop_df.csv\")\n",
    "stop_df = stop_df.loc[:, [\"name\", \"lat\", \"long\", \"route_id\", \"route_stop_id\"]]\n",
    "stop_df = stop_df.set_index(\"name\")"
   ]
  },
  {
   "cell_type": "markdown",
   "id": "ad173474-ef25-4aba-95e6-31d049d5b264",
   "metadata": {},
   "source": [
    "### Keying with coordinates"
   ]
  },
  {
   "cell_type": "markdown",
   "id": "10b96bc4-e0f2-4a22-a5f6-f62da37bde0e",
   "metadata": {},
   "source": [
    "We can convert the Route to a geopandas dataframe that includes the coordinates as geometries that we can plot on a map. We start by converting the coordinates into points."
   ]
  },
  {
   "cell_type": "code",
   "execution_count": null,
   "id": "a8fa805a-c1c1-4b5c-a660-6dc0b8a4b2cb",
   "metadata": {},
   "outputs": [],
   "source": [
    "stops_gdf = gen_gdf(stop_df)\n",
    "stops_gdf = stops_gdf.drop([\"lat\", \"long\"], axis=\"columns\")\n",
    "stops_gdf"
   ]
  },
  {
   "cell_type": "markdown",
   "id": "b091cf30-1616-4f91-a995-77fc8761b5e7",
   "metadata": {},
   "source": [
    "## Routes"
   ]
  },
  {
   "cell_type": "markdown",
   "id": "754fbf5d-b840-41d9-9d9c-4593d941f19b",
   "metadata": {},
   "source": [
    "We do the same with for the route data."
   ]
  },
  {
   "cell_type": "code",
   "execution_count": null,
   "id": "f0c08820-6d59-46ec-a365-8484e81b612d",
   "metadata": {},
   "outputs": [],
   "source": [
    "route_df = pd.read_csv(\"data/vehicle_df.csv\")\n",
    "route_df = route_df.loc[~route_df[\"encoded_polyline\"].isna(), [\"route_name\", \"encoded_polyline\", \"color\", \"route_id\"]]\n",
    "route_df = route_df.set_index(\"route_name\")\n",
    "route_df"
   ]
  },
  {
   "cell_type": "markdown",
   "id": "293352ed-ac03-4bb6-a1d6-b27a5c3247a2",
   "metadata": {},
   "source": [
    "The __route_id__ column contains an ID format that seems to be shared with the __stops__ dataframe. This allows us to map the stops to the routes once we plot.\n",
    "\n",
    "But first, we endeavor to convert the __encoded_polyline__ series into a format we can parse for plotting."
   ]
  },
  {
   "cell_type": "markdown",
   "id": "8d3ed2c4-0741-4960-a59d-719fbf15d40a",
   "metadata": {},
   "source": [
    "### Converting polylines into coordinates"
   ]
  },
  {
   "cell_type": "markdown",
   "id": "843bd541-6324-4a49-a58e-cd38e4bf343a",
   "metadata": {},
   "source": [
    "The __encoded_polyline__ column contains encoded line geometries to trace the paths. We convert them as follows:"
   ]
  },
  {
   "cell_type": "markdown",
   "id": "19b1c3c3-6e11-46c1-b61f-ac8caa63aeff",
   "metadata": {},
   "source": [
    "We first import the polyline module to decode the series."
   ]
  },
  {
   "cell_type": "code",
   "execution_count": null,
   "id": "4a6ebfb6-8573-4656-a1f6-0ae51c9e792a",
   "metadata": {},
   "outputs": [],
   "source": [
    "import polyline\n",
    "\n",
    "decoded_points = polyline.decode(route_df.at[\"Blue Link\", \"encoded_polyline\"])\n",
    "print(\"\\n\".join([f\"({a}, {b})\" for a, b in decoded_points[:5]])) # preview first 5 points"
   ]
  },
  {
   "cell_type": "markdown",
   "id": "cc354611-b334-47e4-a72a-405fadd68864",
   "metadata": {},
   "source": [
    "We attempt to plot the decoded points to see how they work in action. "
   ]
  },
  {
   "cell_type": "code",
   "execution_count": null,
   "id": "5aa600a6-5bfa-48ef-a1b3-e875e48dafbd",
   "metadata": {},
   "outputs": [],
   "source": [
    "from shapely.geometry import LineString # import function for parsing points into lines\n",
    "\n",
    "sample_points = [(b, a) for a, b in decoded_points]\n",
    "line = LineString(sample_points)\n",
    "gdf = gp.GeoDataFrame(geometry=[line])\n",
    "\n",
    "fig, ax = plt.subplots(1,1, layout=\"tight\")\n",
    "gdf.plot(ax=ax, color=route_df.at[\"Blue Link\", \"color\"]) # select color for the route\n",
    "cx.add_basemap(ax, crs= \"EPSG:4326\")\n",
    "plt.show()"
   ]
  },
  {
   "cell_type": "markdown",
   "id": "7412494f-50e0-41fa-9ba2-626a1d63483e",
   "metadata": {},
   "source": [
    "> The image does not contain arrows. We will demonstrate how arrows can be added in future reports."
   ]
  },
  {
   "cell_type": "markdown",
   "id": "2f3e3191-f368-41fa-ba7e-a8ddca360c94",
   "metadata": {},
   "source": [
    "We then map this process to all routes. "
   ]
  },
  {
   "cell_type": "code",
   "execution_count": null,
   "id": "e0190591-34a8-466e-9f4a-de758cff348d",
   "metadata": {},
   "outputs": [],
   "source": [
    "def get_polyline(geocode_string): # define a mapping function for all geocodes\n",
    "    decoded_points = polyline.decode(geocode_string)\n",
    "    sample_points = [(b, a) for a, b in decoded_points]\n",
    "    return LineString(sample_points)"
   ]
  },
  {
   "cell_type": "code",
   "execution_count": null,
   "id": "5719bf38-798a-4cda-a1c7-e930bbc0883f",
   "metadata": {},
   "outputs": [],
   "source": [
    "geom_polylines = route_df[\"encoded_polyline\"].apply(get_polyline)"
   ]
  },
  {
   "cell_type": "markdown",
   "id": "94ea76a9-81c9-4442-8dc6-382498ae65b5",
   "metadata": {},
   "source": [
    "We can create _geodataframes_ from our routes."
   ]
  },
  {
   "cell_type": "code",
   "execution_count": null,
   "id": "ea07e576-724b-437c-b0e1-d863e0b31deb",
   "metadata": {},
   "outputs": [],
   "source": [
    "routes_gdf = gp.GeoDataFrame(data=route_df, geometry=geom_polylines)\n",
    "routes_gdf = routes_gdf.drop(\"encoded_polyline\", axis=\"columns\")\n",
    "routes_gdf"
   ]
  },
  {
   "cell_type": "markdown",
   "id": "455ab040-eb32-4f93-afd9-862646ec5d2e",
   "metadata": {},
   "source": [
    "### Plotting Routes"
   ]
  },
  {
   "cell_type": "markdown",
   "id": "9d6d3b81-eaea-467e-a639-b50f0f16a4a0",
   "metadata": {},
   "source": [
    "We then proceed to plotting our dataframe."
   ]
  },
  {
   "cell_type": "code",
   "execution_count": null,
   "id": "5b079c46-c295-4813-b765-13b5a3d34ce9",
   "metadata": {},
   "outputs": [],
   "source": [
    "fig, ax = plt.subplots(1,1, layout=\"tight\")\n",
    "routes_gdf.plot(ax=ax, color=routes_gdf[\"color\"]) # select color for the route\n",
    "cx.add_basemap(ax, crs= \"EPSG:4326\", source=cx.providers.Stamen.TonerLite)"
   ]
  },
  {
   "cell_type": "markdown",
   "id": "7c260844-4794-4cf5-a7b6-8584882f1e42",
   "metadata": {},
   "source": [
    "We are able to plot all of the routes present in the dataset. This dataset tried to include all of the routes, and missing routes can be progressively added to this dataframe. \n",
    "\n",
    "We then show each route individually."
   ]
  },
  {
   "cell_type": "code",
   "execution_count": null,
   "id": "2cdfc2cb-afcc-4824-a91e-91e251d75112",
   "metadata": {},
   "outputs": [],
   "source": [
    "# num_cols = 3\n",
    "# num_rows = len(routes_gdf) // num_cols + 1\n",
    "\n",
    "# fig_size = 14.4 * num_cols, 9.6 * num_rows # matplotlib describes length in screen units, not px\n",
    "# fig, ax = plt.subplots(num_rows, num_cols, figsize=fig_size, layout='tight')\n",
    "# fig.subplots_adjust(left=None, bottom=None, right=None, top=None, wspace=None, hspace=None)\n",
    "\n",
    "# plot_gdf = routes_gdf.reset_index()\n",
    "\n",
    "# for i in tqdm(range(len(plot_gdf))):\n",
    "#     col = i % num_cols\n",
    "#     row = i // num_cols\n",
    "#     ax[row, col].set_title(plot_gdf.at[i, \"route_name\"])\n",
    "#     plot_gdf.loc[[i], \"geometry\"].plot(ax=ax[row, col], color=plot_gdf.at[i, \"color\"])\n",
    "    \n",
    "#     try:\n",
    "#         cx.add_basemap(ax[row, col], crs= \"EPSG:4326\")\n",
    "#     except:\n",
    "#         cx.add_basemap(ax[row, col], crs= \"EPSG:4326\", zoom=0)\n",
    "# fig.savefig(\"data/route_sample.png\")\n",
    "# plt.show()\n",
    "# plt.close()"
   ]
  },
  {
   "cell_type": "markdown",
   "id": "44767f03-14b6-498a-b198-faf8bf332995",
   "metadata": {},
   "source": [
    "> The image file is also included in the folder for better preview and zoom.\n",
    "> \n",
    "We can see that some routes, namely Route B and C, are shown without proper map backgrounds. This probably has to do with the zoom level chosen for the data. The error-prone overall image generated before shows that this is probably a bug."
   ]
  },
  {
   "cell_type": "markdown",
   "id": "603fd3fc-2890-42d8-98a2-b1d4c1b4b097",
   "metadata": {},
   "source": [
    "## Combining stops and routes"
   ]
  },
  {
   "cell_type": "markdown",
   "id": "396a478d-3338-4d7b-8654-8b931ad89a33",
   "metadata": {},
   "source": [
    "We can add routes to the stop information table to generate a list of stops to plot. We can do so by merging the stops with the routes by the route ID, deferring to the routes table.\n",
    "\n",
    "We first inspect our data"
   ]
  },
  {
   "cell_type": "code",
   "execution_count": null,
   "id": "d315b709-c576-4e2f-abd3-764fdcfb4009",
   "metadata": {},
   "outputs": [],
   "source": [
    "stops_gdf"
   ]
  },
  {
   "cell_type": "code",
   "execution_count": null,
   "id": "61d8e4c6-6756-413b-8fc9-300fddcdf874",
   "metadata": {},
   "outputs": [],
   "source": [
    "routes_gdf"
   ]
  },
  {
   "cell_type": "markdown",
   "id": "8bf24945-0cae-4cf1-9580-6690b9c63b90",
   "metadata": {},
   "source": [
    "We proceed with the merge:"
   ]
  },
  {
   "cell_type": "code",
   "execution_count": null,
   "id": "214a734c-076c-44e8-b4f7-b63684d79cde",
   "metadata": {},
   "outputs": [],
   "source": [
    "routes_gdf_reset = routes_gdf.reset_index()\n",
    "stops_with_routes_gdf = stops_gdf.merge(routes_gdf_reset, on='route_id' , how='inner', suffixes=['_stop', '_route'])\n",
    "stops_with_routes_gdf"
   ]
  },
  {
   "cell_type": "markdown",
   "id": "b2fd2291-1999-4b80-be99-3e30b072988c",
   "metadata": {},
   "source": [
    "### Plotting categorized stops"
   ]
  },
  {
   "cell_type": "markdown",
   "id": "7f17ade4-8fde-4c13-91a3-02a00095a427",
   "metadata": {},
   "source": [
    "We can then plot the stops with the corresponding colors of the routes."
   ]
  },
  {
   "cell_type": "code",
   "execution_count": null,
   "id": "151cf4db-c8dc-4b9c-8a0e-43eb8a9d807e",
   "metadata": {},
   "outputs": [],
   "source": [
    "plot_gdf = gp.GeoDataFrame(data=stops_with_routes_gdf, geometry=stops_with_routes_gdf[\"geometry_stop\"])\n",
    "plot_gdf = plot_gdf.drop([\"route_id\", \"geometry_stop\", \"geometry_route\"], axis=\"columns\")\n",
    "plot_gdf = plot_gdf.set_index(\"route_stop_id\")\n",
    "plot_gdf"
   ]
  },
  {
   "cell_type": "code",
   "execution_count": null,
   "id": "535163cc-99e3-4927-a4b4-3cd9baa3c41d",
   "metadata": {},
   "outputs": [],
   "source": [
    "fig, ax = plt.subplots(1,1, layout=\"tight\", dpi=150)\n",
    "plot_gdf.plot(ax=ax, c=stops_with_routes_gdf[\"color\"])\n",
    "cx.add_basemap(ax, crs= \"EPSG:4326\")\n",
    "plt.show()"
   ]
  },
  {
   "cell_type": "markdown",
   "id": "03988e19-42fd-44d3-8e3f-376166ddc0ad",
   "metadata": {},
   "source": [
    "We can observe that some of the routes are not present. This is especially the case when multiple routes share the same stop."
   ]
  },
  {
   "cell_type": "markdown",
   "id": "d2b38f57-f9b9-4219-95af-af64689cd537",
   "metadata": {},
   "source": [
    "# Conclusion\n",
    "\n",
    "This exploration shows the viability of using real time bus location data to extract information about driver behavior that is not usually revealed in consumer-facing tracking apps. The plots show that a small subset of the realtime data can be used for analysis using open-source tools.\n",
    "\n",
    "However, the preliminary exmination of the data also show a clear lack of labelling features on the position dataset, which, from our previous experience, was not the case before the shuttle tracking upgrade. We would need to collect data directly from the consumer-facing app, albeit at less resolution, in order to label the data and continue analysis. The following section summarizes our plans moving forward."
   ]
  },
  {
   "cell_type": "markdown",
   "id": "77229d29-8f73-416e-896d-c203cbf74aef",
   "metadata": {},
   "source": [
    "## Future Work\n",
    "\n",
    "1. Collect route data throughout day to retrieve complete list of routes.\n",
    "2. Perform correlation analysis on route segments with collected data. The API can be retrieved from the Case Shuttle Tracking Website through the Networks console. Also ask school for access to API once back on campus.\n",
    "3. Start collecting and analyzing arrivals data and correlated with original dataset."
   ]
  }
 ],
 "metadata": {
  "kernelspec": {
   "display_name": "Python 3 (ipykernel)",
   "language": "python",
   "name": "python3"
  }
 },
 "nbformat": 4,
 "nbformat_minor": 5
}
