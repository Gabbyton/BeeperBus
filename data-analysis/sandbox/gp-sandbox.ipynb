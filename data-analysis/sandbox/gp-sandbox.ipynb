{
 "cells": [
  {
   "cell_type": "code",
   "execution_count": null,
   "id": "fc56c9e1-3126-4117-a307-d793b1f4e7f5",
   "metadata": {},
   "outputs": [],
   "source": [
    "import geopandas as gp\n",
    "from geodatasets import get_path\n",
    "\n",
    "data_path = get_path(\"nybb\")\n",
    "gdf = gp.read_file(data_path)"
   ]
  },
  {
   "cell_type": "code",
   "execution_count": null,
   "id": "02038ce1-0b9f-4eaf-aa0d-2227918f2a38",
   "metadata": {},
   "outputs": [],
   "source": [
    "gdf"
   ]
  },
  {
   "cell_type": "code",
   "execution_count": null,
   "id": "fbe23e24-bd1c-4c8e-937e-e74a47148091",
   "metadata": {},
   "outputs": [],
   "source": [
    "gdf.to_file(\"my_file.geojson\", driver=\"GeoJSON\")"
   ]
  },
  {
   "cell_type": "code",
   "execution_count": null,
   "id": "4c720ded-5e4c-41a3-ba90-40578a8dd3cb",
   "metadata": {},
   "outputs": [],
   "source": [
    "gdf = gdf.set_index(\"BoroName\")\n",
    "gdf[\"area\"] = gdf.area\n",
    "gdf[\"boundary\"] = gdf.boundary"
   ]
  },
  {
   "cell_type": "code",
   "execution_count": null,
   "id": "05b945d0-74c7-473a-8950-61e6512765cc",
   "metadata": {},
   "outputs": [],
   "source": [
    "gdf[\"area\"]"
   ]
  },
  {
   "cell_type": "code",
   "execution_count": null,
   "id": "598210f4-0ae6-46dc-9040-be43bf991180",
   "metadata": {},
   "outputs": [],
   "source": [
    "gdf[\"boundary\"]"
   ]
  },
  {
   "cell_type": "code",
   "execution_count": null,
   "id": "029b2dd6-c5ff-44df-b382-359e78b5b425",
   "metadata": {},
   "outputs": [],
   "source": [
    "gdf[\"centroid\"] = gdf.centroid\n",
    "gdf[\"centroid\"]"
   ]
  },
  {
   "cell_type": "code",
   "execution_count": null,
   "id": "f5be4fba-6869-4e50-b5fc-90408ebd105c",
   "metadata": {},
   "outputs": [],
   "source": [
    "first_centroid = gdf[\"centroid\"].iloc[0]\n",
    "gdf[\"distance\"] = gdf[\"centroid\"].distance(first_centroid)\n",
    "gdf[\"distance\"]"
   ]
  },
  {
   "cell_type": "code",
   "execution_count": null,
   "id": "cd1b5ff9-2126-430e-a2fc-f64ab0cf854f",
   "metadata": {},
   "outputs": [],
   "source": [
    "gdf.plot(\"area\", legend=True)"
   ]
  },
  {
   "cell_type": "code",
   "execution_count": null,
   "id": "fcf80468-533f-492f-800b-a62d9affb86c",
   "metadata": {},
   "outputs": [],
   "source": [
    "gdf.explore(\"area\", legend=False)"
   ]
  },
  {
   "cell_type": "code",
   "execution_count": null,
   "id": "c02d81b8-f922-4b82-b8e1-babb27cd35d8",
   "metadata": {},
   "outputs": [],
   "source": [
    "gdf = gdf.set_geometry(\"centroid\")\n",
    "gdf.plot(\"area\", legend=True)"
   ]
  },
  {
   "cell_type": "code",
   "execution_count": null,
   "id": "44379c53-b5e5-4c82-8cb2-b03f2101d263",
   "metadata": {},
   "outputs": [],
   "source": [
    "ax = gdf[\"boundary\"].plot()\n",
    "gdf[\"centroid\"].plot(ax=ax, color=\"black\")"
   ]
  },
  {
   "cell_type": "code",
   "execution_count": null,
   "id": "5b9dfaca-9670-4829-a802-7a4dce40c6b8",
   "metadata": {},
   "outputs": [],
   "source": [
    "gdf = gdf.set_geometry(\"geometry\")"
   ]
  },
  {
   "cell_type": "code",
   "execution_count": null,
   "id": "27fd780b-5b39-47cb-9565-2ff45cde98d8",
   "metadata": {},
   "outputs": [],
   "source": [
    "gdf[\"convex_hull\"] = gdf.convex_hull\n",
    "ax = gdf[\"convex_hull\"].plot(alpha=0.5)\n",
    "gdf[\"boundary\"].plot(ax=ax, color=\"white\", linewidth=0.5)"
   ]
  },
  {
   "cell_type": "code",
   "execution_count": null,
   "id": "6f156602-427f-42d8-9f99-5df682daad51",
   "metadata": {},
   "outputs": [],
   "source": [
    "gdf[\"buffered\"] = gdf.buffer(1e4)\n",
    "gdf[\"buffered_centroid\"] = gdf[\"centroid\"].buffer(1e4)"
   ]
  },
  {
   "cell_type": "code",
   "execution_count": null,
   "id": "82f4e72b-eb18-47fb-ac59-611bbd085bdc",
   "metadata": {},
   "outputs": [],
   "source": [
    "ax = gdf[\"buffered\"].plot(alpha=0.5)\n",
    "gdf[\"buffered_centroid\"].plot(ax=ax, color=\"red\", alpha=0.5)\n",
    "gdf[\"boundary\"].plot(ax=ax, color=\"white\", lw=0.5)"
   ]
  },
  {
   "cell_type": "code",
   "execution_count": null,
   "id": "5a25705a-b365-482e-a215-c5914193a958",
   "metadata": {},
   "outputs": [],
   "source": [
    "brooklyn = gdf.loc[\"Brooklyn\", \"geometry\"]\n",
    "brooklyn"
   ]
  },
  {
   "cell_type": "code",
   "execution_count": null,
   "id": "eed58ad2-4b96-453b-924d-6f3a79d0a6e2",
   "metadata": {},
   "outputs": [],
   "source": [
    "type(brooklyn)"
   ]
  },
  {
   "cell_type": "code",
   "execution_count": null,
   "id": "31ed7eb2-781e-4e49-a1aa-017856d52af7",
   "metadata": {},
   "outputs": [],
   "source": [
    "gdf[\"buffered\"].intersects(brooklyn)"
   ]
  },
  {
   "cell_type": "code",
   "execution_count": null,
   "id": "5fae9602-2319-4914-9c1e-ff545fdd219c",
   "metadata": {},
   "outputs": [],
   "source": [
    "gdf[\"within\"] = gdf[\"buffered_centroid\"].within(gdf)\n",
    "gdf[\"within\"]"
   ]
  },
  {
   "cell_type": "code",
   "execution_count": null,
   "id": "e09ff3b7-35c4-4f32-b8e7-8b8f91156b8d",
   "metadata": {},
   "outputs": [],
   "source": [
    "gdf = gdf.set_geometry(\"buffered_centroid\")\n",
    "\n",
    "ax = gdf.plot(\n",
    "    \"within\", legend=True, categorical=True, legend_kwds={\"loc\": \"upper left\"}\n",
    ")\n",
    "# passing the first plot and setting linewitdth to 0.5\n",
    "gdf[\"boundary\"].plot(ax=ax, color=\"black\", linewidth=0.5)"
   ]
  },
  {
   "cell_type": "code",
   "execution_count": null,
   "id": "0acaaf0a-8160-4aa8-91bd-547ee7f9aff9",
   "metadata": {},
   "outputs": [],
   "source": [
    "gdf.crs"
   ]
  },
  {
   "cell_type": "code",
   "execution_count": null,
   "id": "036f4a71-b835-4170-8f98-37782bd4bf4f",
   "metadata": {},
   "outputs": [],
   "source": []
  }
 ],
 "metadata": {
  "kernelspec": {
   "display_name": "Python 3 (ipykernel)",
   "language": "python",
   "name": "python3"
  }
 },
 "nbformat": 4,
 "nbformat_minor": 5
}
