{
 "cells": [
  {
   "cell_type": "code",
   "execution_count": null,
   "id": "c79800f1-f99a-44a8-b874-00da51a8b7f6",
   "metadata": {},
   "outputs": [],
   "source": [
    "import geopandas as gpd\n",
    "import matplotlib.pyplot as plt\n",
    "import contextily as ctx\n",
    "\n",
    "# Example coordinates in decimal degrees notation\n",
    "coordinates = [\n",
    "    (41.509520, -81.61648),\n",
    "    (41.50798, -81.61166),\n",
    "    (41.50384, -81.61483),\n",
    "    (41.50607, -81.62023),\n",
    "    (41.51035, -81.61312),\n",
    "    (41.50833, -81.61781),\n",
    "    (41.50687, -81.62078),\n",
    "    (41.51080, -81.61843),\n",
    "    (41.50553, -81.61718),\n",
    "    (41.51192, -81.61449)\n",
    "]\n",
    "\n",
    "# Create a DataFrame from the coordinates\n",
    "data = {'Latitude': [coord[0] for coord in coordinates],\n",
    "        'Longitude': [coord[1] for coord in coordinates]}\n",
    "gdf = gpd.GeoDataFrame(data, geometry=gpd.points_from_xy(data['Longitude'], data['Latitude']))\n",
    "\n",
    "# Plot the GeoDataFrame on an interactive map with basemap\n",
    "fig, ax = plt.subplots(figsize=(10, 10))\n",
    "gdf.plot(ax=ax, marker='o', color='red', markersize=50, label='Locations')\n",
    "\n",
    "# Add labels to the points\n",
    "for x, y, label in zip(gdf.geometry.x, gdf.geometry.y, range(1, 11)):\n",
    "    ax.text(x, y, str(label), fontsize=12, ha='center', va='center', color='white')\n",
    "\n",
    "# Add the basemap using contextily\n",
    "ctx.add_basemap(ax, crs=gdf.crs.to_string(), source=ctx.providers.Stamen.TonerLite)\n",
    "\n",
    "plt.title(\"Interactive Map of Locations\")\n",
    "plt.legend()\n",
    "plt.xlabel('Longitude')\n",
    "plt.ylabel('Latitude')\n",
    "plt.grid(True)\n",
    "plt.show()\n"
   ]
  },
  {
   "cell_type": "code",
   "execution_count": null,
   "id": "ec708ed4-db62-4e98-af3c-76557d1bb94b",
   "metadata": {},
   "outputs": [],
   "source": []
  }
 ],
 "metadata": {
  "kernelspec": {
   "display_name": "Python 3 (ipykernel)",
   "language": "python",
   "name": "python3"
  }
 },
 "nbformat": 4,
 "nbformat_minor": 5
}
